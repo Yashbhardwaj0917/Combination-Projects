{
  "cells": [
    {
      "attachments": {},
      "cell_type": "markdown",
      "metadata": {
        "id": "8Kws_cdtnJ2N"
      },
      "source": [
        "## Password Strength Prediction using Support Vector Machine (SVM)\n",
        "\n",
        "In today's digital age, ensuring the security of online accounts is of paramount importance. One crucial aspect of account security is creating strong and secure passwords. Weak passwords can leave individuals vulnerable to various cyber threats, such as hacking and data breaches. To address this issue, machine learning techniques can be employed to predict the strength of passwords and provide users with feedback on their password choices.\n",
        "\n",
        "This notebook presents a Python-based solution for password strength prediction using a Support Vector Machine (SVM) classifier. SVM is a powerful machine learning algorithm that can classify data points into different categories, making it well-suited for this task. The code utilizes various libraries and techniques to preprocess the data, train the SVM model, and provide users with the ability to check the strength of a password interactively.\n",
        "\n",
        "## Dataset\n",
        "https://www.kaggle.com/datasets/utkarshx27/passwords\n",
        "\n",
        "**Key Steps in the Notebook:**\n",
        "\n",
        "1. **Importing Dependencies:** The code starts by importing essential libraries such as NumPy, Pandas, Matplotlib, Seaborn, and scikit-learn's tools for text vectorization and SVM classification.\n",
        "\n",
        "2. **Loading Dataset:** It loads a dataset named \"passwords.csv,\" presumably containing password samples and their corresponding strength labels.\n",
        "\n",
        "3. **Initial Exploration and Cleaning:** This section explores the dataset, checking for its dimensions, missing values, and distribution of password strengths. It visualizes the distribution using a countplot to gain insights into the data.\n",
        "\n",
        "4. **Machine Learning:**\n",
        "\n",
        "    - **Test Train Split:** The dataset is divided into training and testing sets to evaluate the model's performance accurately.\n",
        "\n",
        "    - **Vectorization:** Passwords are vectorized using the Term Frequency-Inverse Document Frequency (TF-IDF) representation, a common technique for text data.\n",
        "\n",
        "    - **Parameters (Defining and Searching):** The code defines a parameter grid for grid search to find the best hyperparameters for the SVM model. Grid search is performed to optimize the model's performance.\n",
        "\n",
        "    - **Training and Testing:** The SVM classifier is trained with the best hyperparameters obtained from grid search. Predictions are made on the test set, and accuracy is calculated to evaluate model performance. A confusion matrix is also visualized to assess classification results.\n",
        "\n",
        "5. **Interactive Password Strength Prediction:** The notebook concludes by providing an interactive component where users can input a password, and the trained SVM model predicts its strength as either \"Strong password\" or \"Weak password\" based on the learned patterns from the dataset.\n",
        "\n",
        "By following this notebook, users can gain insights into password strength prediction and use the SVM model to assess the security of their passwords. This project serves as a valuable tool for promoting better password practices and enhancing online security.\n"
      ]
    },
    {
      "attachments": {},
      "cell_type": "markdown",
      "metadata": {
        "id": "0RHGI-Ktgst3"
      },
      "source": [
        "# Importing Dependencies"
      ]
    },
    {
      "cell_type": "code",
      "execution_count": null,
      "metadata": {
        "_cell_guid": "b1076dfc-b9ad-4769-8c92-a6c4dae69d19",
        "_uuid": "8f2839f25d086af736a60e9eeb907d3b93b6e0e5",
        "execution": {
          "iopub.execute_input": "2023-08-17T15:36:16.435977Z",
          "iopub.status.busy": "2023-08-17T15:36:16.435583Z",
          "iopub.status.idle": "2023-08-17T15:36:16.442768Z",
          "shell.execute_reply": "2023-08-17T15:36:16.441544Z",
          "shell.execute_reply.started": "2023-08-17T15:36:16.435948Z"
        },
        "id": "nvGpxLVdgcRK",
        "trusted": true
      },
      "outputs": [],
      "source": [
        "import numpy as np\n",
        "import pandas as pd\n",
        "import matplotlib.pyplot as plt\n",
        "import seaborn as sns\n",
        "from sklearn.feature_extraction.text import TfidfVectorizer\n",
        "from sklearn.svm import SVC\n",
        "from sklearn.model_selection import train_test_split, GridSearchCV\n",
        "from sklearn.metrics import accuracy_score, confusion_matrix"
      ]
    },
    {
      "attachments": {},
      "cell_type": "markdown",
      "metadata": {
        "id": "jXvn8SOAhFst"
      },
      "source": [
        "# Loading Dataset"
      ]
    },
    {
      "cell_type": "code",
      "execution_count": null,
      "metadata": {
        "execution": {
          "iopub.execute_input": "2023-08-17T15:36:19.245819Z",
          "iopub.status.busy": "2023-08-17T15:36:19.245415Z",
          "iopub.status.idle": "2023-08-17T15:36:19.266191Z",
          "shell.execute_reply": "2023-08-17T15:36:19.264975Z",
          "shell.execute_reply.started": "2023-08-17T15:36:19.245789Z"
        },
        "id": "zKojxNcsgcRN",
        "trusted": true
      },
      "outputs": [],
      "source": [
        "# Load the dataset\n",
        "data = pd.read_csv(\"passwords.csv\")"
      ]
    },
    {
      "attachments": {},
      "cell_type": "markdown",
      "metadata": {
        "id": "y5zxzIiAhcLz"
      },
      "source": [
        "# Initial Exploration and Cleaning"
      ]
    },
    {
      "cell_type": "code",
      "execution_count": null,
      "metadata": {
        "id": "S6KACtMThRZX"
      },
      "outputs": [],
      "source": [
        "df.head()"
      ]
    },
    {
      "cell_type": "code",
      "execution_count": null,
      "metadata": {
        "id": "5VHHYIzPhUJQ"
      },
      "outputs": [],
      "source": [
        "# shape\n",
        "df.shape"
      ]
    },
    {
      "cell_type": "code",
      "execution_count": null,
      "metadata": {
        "id": "anYARSm8hW9Q"
      },
      "outputs": [],
      "source": [
        "# info\n",
        "df.info()"
      ]
    },
    {
      "cell_type": "code",
      "execution_count": null,
      "metadata": {
        "id": "4nSiheMihZ_h"
      },
      "outputs": [],
      "source": [
        "# describe\n",
        "df.describe()"
      ]
    },
    {
      "cell_type": "code",
      "execution_count": null,
      "metadata": {
        "execution": {
          "iopub.execute_input": "2023-08-17T15:36:20.863369Z",
          "iopub.status.busy": "2023-08-17T15:36:20.862529Z",
          "iopub.status.idle": "2023-08-17T15:36:20.872405Z",
          "shell.execute_reply": "2023-08-17T15:36:20.871114Z",
          "shell.execute_reply.started": "2023-08-17T15:36:20.863330Z"
        },
        "id": "hsHBP4IxgcRN",
        "trusted": true
      },
      "outputs": [],
      "source": [
        "# Remove rows with missing values in the \"password\" column\n",
        "data = data.dropna(subset=[\"password\"])"
      ]
    },
    {
      "cell_type": "code",
      "execution_count": null,
      "metadata": {
        "execution": {
          "iopub.execute_input": "2023-08-17T15:36:22.783725Z",
          "iopub.status.busy": "2023-08-17T15:36:22.783021Z",
          "iopub.status.idle": "2023-08-17T15:36:22.984474Z",
          "shell.execute_reply": "2023-08-17T15:36:22.983309Z",
          "shell.execute_reply.started": "2023-08-17T15:36:22.783667Z"
        },
        "id": "xabEWYlSgcRO",
        "outputId": "e18f1c4b-0e95-40fc-aa4d-e02b8cf70fc2",
        "trusted": true
      },
      "outputs": [
        {
          "data": {
            "image/png": "[encoded data removed]",
            "text/plain": [
              "<Figure size 640x480 with 1 Axes>"
            ]
          },
          "metadata": {},
          "output_type": "display_data"
        }
      ],
      "source": [
        "# Explore the distribution of password strengths\n",
        "sns.countplot(data[\"strength\"])\n",
        "plt.xlabel(\"Password Strength\")\n",
        "plt.ylabel(\"Count\")\n",
        "plt.title(\"Distribution of Password Strengths\")\n",
        "plt.show()"
      ]
    },
    {
      "attachments": {},
      "cell_type": "markdown",
      "metadata": {
        "id": "5c_xZNtwiNml"
      },
      "source": [
        "# Macine Learning"
      ]
    },
    {
      "attachments": {},
      "cell_type": "markdown",
      "metadata": {
        "id": "Xz6COwI8h6Wy"
      },
      "source": [
        "## Test Train Split"
      ]
    },
    {
      "cell_type": "code",
      "execution_count": null,
      "metadata": {
        "execution": {
          "iopub.execute_input": "2023-08-17T15:36:25.757926Z",
          "iopub.status.busy": "2023-08-17T15:36:25.757466Z",
          "iopub.status.idle": "2023-08-17T15:36:25.763484Z",
          "shell.execute_reply": "2023-08-17T15:36:25.762463Z",
          "shell.execute_reply.started": "2023-08-17T15:36:25.757889Z"
        },
        "id": "fPXm4DSOgcRO",
        "trusted": true
      },
      "outputs": [],
      "source": [
        "# Split the data into input features (X) and target variable (y)\n",
        "X = data[\"password\"]\n",
        "y = data[\"strength\"]"
      ]
    },
    {
      "cell_type": "code",
      "execution_count": null,
      "metadata": {
        "execution": {
          "iopub.execute_input": "2023-08-17T15:36:27.975290Z",
          "iopub.status.busy": "2023-08-17T15:36:27.974525Z",
          "iopub.status.idle": "2023-08-17T15:36:27.982985Z",
          "shell.execute_reply": "2023-08-17T15:36:27.981786Z",
          "shell.execute_reply.started": "2023-08-17T15:36:27.975253Z"
        },
        "id": "foeCQtsTgcRP",
        "trusted": true
      },
      "outputs": [],
      "source": [
        "# Split the data into training and testing sets\n",
        "X_train, X_test, y_train, y_test = train_test_split(X, y, test_size=0.2, random_state=42)"
      ]
    },
    {
      "attachments": {},
      "cell_type": "markdown",
      "metadata": {
        "id": "VVT27o4MjMsa"
      },
      "source": [
        "## Vectorization"
      ]
    },
    {
      "cell_type": "code",
      "execution_count": null,
      "metadata": {
        "execution": {
          "iopub.execute_input": "2023-08-17T15:36:29.260689Z",
          "iopub.status.busy": "2023-08-17T15:36:29.260293Z",
          "iopub.status.idle": "2023-08-17T15:36:29.277985Z",
          "shell.execute_reply": "2023-08-17T15:36:29.276601Z",
          "shell.execute_reply.started": "2023-08-17T15:36:29.260659Z"
        },
        "id": "beS7pYG1gcRP",
        "trusted": true
      },
      "outputs": [],
      "source": [
        "# Vectorize the passwords using TF-IDF representation\n",
        "vectorizer = TfidfVectorizer(analyzer=\"char\")\n",
        "X_train_tfidf = vectorizer.fit_transform(X_train)\n",
        "X_test_tfidf = vectorizer.transform(X_test)"
      ]
    },
    {
      "attachments": {},
      "cell_type": "markdown",
      "metadata": {
        "id": "kVYyX75VjSvO"
      },
      "source": [
        "## Parameters (Defining and Searching)"
      ]
    },
    {
      "cell_type": "code",
      "execution_count": null,
      "metadata": {
        "execution": {
          "iopub.execute_input": "2023-08-17T15:36:31.944204Z",
          "iopub.status.busy": "2023-08-17T15:36:31.943793Z",
          "iopub.status.idle": "2023-08-17T15:36:31.950258Z",
          "shell.execute_reply": "2023-08-17T15:36:31.949042Z",
          "shell.execute_reply.started": "2023-08-17T15:36:31.944172Z"
        },
        "id": "BdAMuHAKgcRQ",
        "trusted": true
      },
      "outputs": [],
      "source": [
        "# Define the parameter grid for grid search\n",
        "param_grid = {\n",
        "    \"C\": [0.1, 1, 10],\n",
        "    \"gamma\": [0.1, 1, 10]\n",
        "}"
      ]
    },
    {
      "cell_type": "code",
      "execution_count": null,
      "metadata": {
        "execution": {
          "iopub.execute_input": "2023-08-17T15:36:34.416248Z",
          "iopub.status.busy": "2023-08-17T15:36:34.415813Z",
          "iopub.status.idle": "2023-08-17T15:36:36.139505Z",
          "shell.execute_reply": "2023-08-17T15:36:36.138082Z",
          "shell.execute_reply.started": "2023-08-17T15:36:34.416214Z"
        },
        "id": "Uko3LVDEgcRQ",
        "outputId": "b10248c5-d1f8-4191-b597-a699b88150f3",
        "trusted": true
      },
      "outputs": [
        {
          "name": "stderr",
          "output_type": "stream",
          "text": [
            "/opt/conda/lib/python3.10/site-packages/sklearn/model_selection/_split.py:700: UserWarning: The least populated class in y has only 1 members, which is less than n_splits=5.\n",
            "  warnings.warn(\n"
          ]
        }
      ],
      "source": [
        "# Perform grid search to find the best hyperparameters\n",
        "grid_search = GridSearchCV(SVC(kernel=\"rbf\", random_state=42), param_grid, cv=5)\n",
        "grid_search.fit(X_train_tfidf, y_train)\n",
        "best_params = grid_search.best_params_"
      ]
    },
    {
      "attachments": {},
      "cell_type": "markdown",
      "metadata": {
        "id": "p84hXyHKjpLt"
      },
      "source": [
        "## Training and Testing"
      ]
    },
    {
      "cell_type": "code",
      "execution_count": null,
      "metadata": {
        "execution": {
          "iopub.execute_input": "2023-08-17T15:36:37.594390Z",
          "iopub.status.busy": "2023-08-17T15:36:37.593920Z",
          "iopub.status.idle": "2023-08-17T15:36:37.640770Z",
          "shell.execute_reply": "2023-08-17T15:36:37.639473Z",
          "shell.execute_reply.started": "2023-08-17T15:36:37.594353Z"
        },
        "id": "bxwFabEwgcRQ",
        "outputId": "854a9d44-5359-42ff-9640-2375ab5060cb",
        "trusted": true
      },
      "outputs": [
        {
          "data": {
            "text/html": [
              "<style>#sk-container-id-1 {color: black;background-color: white;}#sk-container-id-1 pre{padding: 0;}#sk-container-id-1 div.sk-toggleable {background-color: white;}#sk-container-id-1 label.sk-toggleable__label {cursor: pointer;display: block;width: 100%;margin-bottom: 0;padding: 0.3em;box-sizing: border-box;text-align: center;}#sk-container-id-1 label.sk-toggleable__label-arrow:before {content: \"▸\";float: left;margin-right: 0.25em;color: #696969;}#sk-container-id-1 label.sk-toggleable__label-arrow:hover:before {color: black;}#sk-container-id-1 div.sk-estimator:hover label.sk-toggleable__label-arrow:before {color: black;}#sk-container-id-1 div.sk-toggleable__content {max-height: 0;max-width: 0;overflow: hidden;text-align: left;background-color: #f0f8ff;}#sk-container-id-1 div.sk-toggleable__content pre {margin: 0.2em;color: black;border-radius: 0.25em;background-color: #f0f8ff;}#sk-container-id-1 input.sk-toggleable__control:checked~div.sk-toggleable__content {max-height: 200px;max-width: 100%;overflow: auto;}#sk-container-id-1 input.sk-toggleable__control:checked~label.sk-toggleable__label-arrow:before {content: \"▾\";}#sk-container-id-1 div.sk-estimator input.sk-toggleable__control:checked~label.sk-toggleable__label {background-color: #d4ebff;}#sk-container-id-1 div.sk-label input.sk-toggleable__control:checked~label.sk-toggleable__label {background-color: #d4ebff;}#sk-container-id-1 input.sk-hidden--visually {border: 0;clip: rect(1px 1px 1px 1px);clip: rect(1px, 1px, 1px, 1px);height: 1px;margin: -1px;overflow: hidden;padding: 0;position: absolute;width: 1px;}#sk-container-id-1 div.sk-estimator {font-family: monospace;background-color: #f0f8ff;border: 1px dotted black;border-radius: 0.25em;box-sizing: border-box;margin-bottom: 0.5em;}#sk-container-id-1 div.sk-estimator:hover {background-color: #d4ebff;}#sk-container-id-1 div.sk-parallel-item::after {content: \"\";width: 100%;border-bottom: 1px solid gray;flex-grow: 1;}#sk-container-id-1 div.sk-label:hover label.sk-toggleable__label {background-color: #d4ebff;}#sk-container-id-1 div.sk-serial::before {content: \"\";position: absolute;border-left: 1px solid gray;box-sizing: border-box;top: 0;bottom: 0;left: 50%;z-index: 0;}#sk-container-id-1 div.sk-serial {display: flex;flex-direction: column;align-items: center;background-color: white;padding-right: 0.2em;padding-left: 0.2em;position: relative;}#sk-container-id-1 div.sk-item {position: relative;z-index: 1;}#sk-container-id-1 div.sk-parallel {display: flex;align-items: stretch;justify-content: center;background-color: white;position: relative;}#sk-container-id-1 div.sk-item::before, #sk-container-id-1 div.sk-parallel-item::before {content: \"\";position: absolute;border-left: 1px solid gray;box-sizing: border-box;top: 0;bottom: 0;left: 50%;z-index: -1;}#sk-container-id-1 div.sk-parallel-item {display: flex;flex-direction: column;z-index: 1;position: relative;background-color: white;}#sk-container-id-1 div.sk-parallel-item:first-child::after {align-self: flex-end;width: 50%;}#sk-container-id-1 div.sk-parallel-item:last-child::after {align-self: flex-start;width: 50%;}#sk-container-id-1 div.sk-parallel-item:only-child::after {width: 0;}#sk-container-id-1 div.sk-dashed-wrapped {border: 1px dashed gray;margin: 0 0.4em 0.5em 0.4em;box-sizing: border-box;padding-bottom: 0.4em;background-color: white;}#sk-container-id-1 div.sk-label label {font-family: monospace;font-weight: bold;display: inline-block;line-height: 1.2em;}#sk-container-id-1 div.sk-label-container {text-align: center;}#sk-container-id-1 div.sk-container {/* jupyter's `normalize.less` sets `[hidden] { display: none; }` but bootstrap.min.css set `[hidden] { display: none !important; }` so we also need the `!important` here to be able to override the default hidden behavior on the sphinx rendered scikit-learn.org. See: https://github.com/scikit-learn/scikit-learn/issues/21755 */display: inline-block !important;position: relative;}#sk-container-id-1 div.sk-text-repr-fallback {display: none;}</style><div id=\"sk-container-id-1\" class=\"sk-top-container\"><div class=\"sk-text-repr-fallback\"><pre>SVC(C=10, gamma=0.1, random_state=42)</pre><b>In a Jupyter environment, please rerun this cell to show the HTML representation or trust the notebook. <br />On GitHub, the HTML representation is unable to render, please try loading this page with nbviewer.org.</b></div><div class=\"sk-container\" hidden><div class=\"sk-item\"><div class=\"sk-estimator sk-toggleable\"><input class=\"sk-toggleable__control sk-hidden--visually\" id=\"sk-estimator-id-1\" type=\"checkbox\" checked><label for=\"sk-estimator-id-1\" class=\"sk-toggleable__label sk-toggleable__label-arrow\">SVC</label><div class=\"sk-toggleable__content\"><pre>SVC(C=10, gamma=0.1, random_state=42)</pre></div></div></div></div></div>"
            ],
            "text/plain": [
              "SVC(C=10, gamma=0.1, random_state=42)"
            ]
          },
          "execution_count": 13,
          "metadata": {},
          "output_type": "execute_result"
        }
      ],
      "source": [
        "# Create and train the SVM classifier with the best hyperparameters\n",
        "model = SVC(kernel=\"rbf\", **best_params, random_state=42)\n",
        "model.fit(X_train_tfidf, y_train)"
      ]
    },
    {
      "cell_type": "code",
      "execution_count": null,
      "metadata": {
        "execution": {
          "iopub.execute_input": "2023-08-17T15:36:39.709293Z",
          "iopub.status.busy": "2023-08-17T15:36:39.708880Z",
          "iopub.status.idle": "2023-08-17T15:36:39.720125Z",
          "shell.execute_reply": "2023-08-17T15:36:39.718895Z",
          "shell.execute_reply.started": "2023-08-17T15:36:39.709261Z"
        },
        "id": "CNeFwzyEgcRR",
        "trusted": true
      },
      "outputs": [],
      "source": [
        "# Make predictions on the test set\n",
        "predictions = model.predict(X_test_tfidf)"
      ]
    },
    {
      "cell_type": "code",
      "execution_count": null,
      "metadata": {
        "execution": {
          "iopub.execute_input": "2023-08-17T15:36:42.298682Z",
          "iopub.status.busy": "2023-08-17T15:36:42.298172Z",
          "iopub.status.idle": "2023-08-17T15:36:42.307536Z",
          "shell.execute_reply": "2023-08-17T15:36:42.306121Z",
          "shell.execute_reply.started": "2023-08-17T15:36:42.298642Z"
        },
        "id": "BOCY56BpgcRR",
        "outputId": "aca83baa-3f5b-4f25-bc62-ae739c25d997",
        "trusted": true
      },
      "outputs": [
        {
          "name": "stdout",
          "output_type": "stream",
          "text": [
            "Accuracy: 0.37\n"
          ]
        }
      ],
      "source": [
        "# Calculate accuracy of the model\n",
        "accuracy = accuracy_score(y_test, predictions)\n",
        "print(\"Accuracy:\", accuracy)"
      ]
    },
    {
      "cell_type": "code",
      "execution_count": null,
      "metadata": {
        "execution": {
          "iopub.execute_input": "2023-08-17T15:36:44.108707Z",
          "iopub.status.busy": "2023-08-17T15:36:44.108228Z",
          "iopub.status.idle": "2023-08-17T15:36:44.895933Z",
          "shell.execute_reply": "2023-08-17T15:36:44.894535Z",
          "shell.execute_reply.started": "2023-08-17T15:36:44.108667Z"
        },
        "id": "GB-pztHEgcRR",
        "outputId": "5721819d-3bce-434e-dad4-d91e2db9f04f",
        "trusted": true
      },
      "outputs": [
        {
          "data": {
            "image/png": "[encoded data removed]",
            "text/plain": [
              "<Figure size 640x480 with 2 Axes>"
            ]
          },
          "metadata": {},
          "output_type": "display_data"
        }
      ],
      "source": [
        "# Visualize the confusion matrix\n",
        "cm = confusion_matrix(y_test, predictions)\n",
        "sns.heatmap(cm, annot=True, cmap=\"Blues\", fmt=\"d\")\n",
        "plt.xlabel(\"Predicted Labels\")\n",
        "plt.ylabel(\"True Labels\")\n",
        "plt.title(\"Confusion Matrix\")\n",
        "plt.show()"
      ]
    },
    {
      "cell_type": "code",
      "execution_count": null,
      "metadata": {
        "execution": {
          "iopub.execute_input": "2023-08-17T15:40:08.901931Z",
          "iopub.status.busy": "2023-08-17T15:40:08.901436Z",
          "iopub.status.idle": "2023-08-17T15:40:13.533635Z",
          "shell.execute_reply": "2023-08-17T15:40:13.532586Z",
          "shell.execute_reply.started": "2023-08-17T15:40:08.901890Z"
        },
        "id": "3JyOtVpCgcRR",
        "outputId": "c620b30a-bfd6-4551-d972-d55feff8ebac",
        "trusted": true
      },
      "outputs": [
        {
          "name": "stdout",
          "output_type": "stream",
          "text": [
            "Enter a password:  123456\n"
          ]
        }
      ],
      "source": [
        "# Prompt the user to enter a password for classification\n",
        "password_to_check = input(\"Enter a password: \")"
      ]
    },
    {
      "cell_type": "code",
      "execution_count": null,
      "metadata": {
        "execution": {
          "iopub.execute_input": "2023-08-17T15:40:15.339771Z",
          "iopub.status.busy": "2023-08-17T15:40:15.338614Z",
          "iopub.status.idle": "2023-08-17T15:40:15.348383Z",
          "shell.execute_reply": "2023-08-17T15:40:15.345926Z",
          "shell.execute_reply.started": "2023-08-17T15:40:15.339725Z"
        },
        "id": "p6jbzDsEgcRR",
        "trusted": true
      },
      "outputs": [],
      "source": [
        "# Vectorize the input password using the trained vectorizer\n",
        "password_vector = vectorizer.transform([password_to_check])"
      ]
    },
    {
      "cell_type": "code",
      "execution_count": null,
      "metadata": {
        "execution": {
          "iopub.execute_input": "2023-08-17T15:40:37.322696Z",
          "iopub.status.busy": "2023-08-17T15:40:37.322297Z",
          "iopub.status.idle": "2023-08-17T15:40:37.329486Z",
          "shell.execute_reply": "2023-08-17T15:40:37.327900Z",
          "shell.execute_reply.started": "2023-08-17T15:40:37.322663Z"
        },
        "id": "hxxW2fwKgcRS",
        "trusted": true
      },
      "outputs": [],
      "source": [
        "# Predict the strength of the input password\n",
        "prediction = model.predict(password_vector)[0]"
      ]
    },
    {
      "cell_type": "code",
      "execution_count": null,
      "metadata": {
        "execution": {
          "iopub.execute_input": "2023-08-17T15:40:40.686192Z",
          "iopub.status.busy": "2023-08-17T15:40:40.685486Z",
          "iopub.status.idle": "2023-08-17T15:40:40.693750Z",
          "shell.execute_reply": "2023-08-17T15:40:40.692472Z",
          "shell.execute_reply.started": "2023-08-17T15:40:40.686144Z"
        },
        "id": "q_uasrk0gcRS",
        "outputId": "76546e6a-50a8-4c55-d501-8f0ae090ac7e",
        "trusted": true
      },
      "outputs": [
        {
          "name": "stdout",
          "output_type": "stream",
          "text": [
            "Weak password.\n"
          ]
        }
      ],
      "source": [
        "# Print the predicted strength of the password\n",
        "if prediction == 1:\n",
        "    print(\"Strong password.\")\n",
        "else:\n",
        "    print(\"Weak password.\")"
      ]
    }
  ],
  "metadata": {
    "colab": {
      "provenance": []
    },
    "kernelspec": {
      "display_name": "Python 3",
      "language": "python",
      "name": "python3"
    },
    "language_info": {
      "codemirror_mode": {
        "name": "ipython",
        "version": 3
      },
      "file_extension": ".py",
      "mimetype": "text/x-python",
      "name": "python",
      "nbconvert_exporter": "python",
      "pygments_lexer": "ipython3",
      "version": "3.10.12"
    }
  },
  "nbformat": 4,
  "nbformat_minor": 0
}
